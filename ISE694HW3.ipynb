{
  "nbformat": 4,
  "nbformat_minor": 0,
  "metadata": {
    "colab": {
      "provenance": [],
      "authorship_tag": "ABX9TyMNGOk6ft2XockdLPmpKHMv",
      "include_colab_link": true
    },
    "kernelspec": {
      "name": "python3",
      "display_name": "Python 3"
    },
    "language_info": {
      "name": "python"
    }
  },
  "cells": [
    {
      "cell_type": "markdown",
      "metadata": {
        "id": "view-in-github",
        "colab_type": "text"
      },
      "source": [
        "<a href=\"https://colab.research.google.com/github/ericliudx/ISE694HW3/blob/main/ISE694HW3.ipynb\" target=\"_parent\"><img src=\"https://colab.research.google.com/assets/colab-badge.svg\" alt=\"Open In Colab\"/></a>"
      ]
    },
    {
      "cell_type": "code",
      "execution_count": 2,
      "metadata": {
        "id": "sm811F0t9SWz"
      },
      "outputs": [],
      "source": [
        "import matplotlib.pyplot as plt\n",
        "import pandas as pd\n",
        "import numpy as np"
      ]
    },
    {
      "cell_type": "code",
      "source": [
        "x = np.array([\n",
        "    [1, 1],\n",
        "    [1, -1],\n",
        "    [6, 3],\n",
        "    [7, -2],\n",
        "    [2, 5],\n",
        "    [1.5, -1],\n",
        "    [-1, 1],\n",
        "    [-1, -1],\n",
        "    [-6, 3],\n",
        "    [-3, 2],\n",
        "    [-4, -4],\n",
        "    [-5, 2]\n",
        "])\n",
        "\n",
        "y = np.array([1, 1, 1, 1, 1, 1, 0, 0, 0, 0, 0, 0])\n",
        "\n",
        "train_df = pd.DataFrame(np.column_stack((x, y)))\n",
        "\n",
        "testx = [[-0.05, 8],[-2, 2], [4, 0]]\n",
        "testy = [1, 0, 1]"
      ],
      "metadata": {
        "id": "xjRebHKw-dLy"
      },
      "execution_count": 10,
      "outputs": []
    },
    {
      "cell_type": "markdown",
      "source": [
        "SVM for Classification for a linearly separable case\n",
        "\n",
        "(a) Write the primal formulation of SVMs for the given training data set (use the formulation for a\n",
        "linearly separable case).\n",
        "\n",
        "(b) Write the dual formulations for the above problems.\n",
        "\n",
        "(c) Run the sample SVM code to find alpha’s (Use very big C, e.g., C = 100000 to model the case of\n",
        "“linearly separable”).\n",
        "\n",
        "(d) Find the decision boundary of an SVM classifier.\n",
        "\n",
        "(e) Find the margin of the above classifier\n",
        "\n",
        "(f) Find the support vectors\n",
        "\n",
        "(g) Calculate the misclassification error rate for the training data set.\n",
        "\n",
        "(h) Calculate the misclassification error rate for the testing data set.\n"
      ],
      "metadata": {
        "id": "p4Zz-YtFIG3H"
      }
    },
    {
      "cell_type": "markdown",
      "source": [
        "(a) objective function: minimize $\\frac{1}{2} (w_1^2 + w_2^2)$\n",
        "\n",
        "such that\n",
        "$$w_1  + w_2 + b \\geq 1\n",
        "$$\n",
        "$$w_1  - w_2 + b \\geq 1\n",
        "$$\n",
        "$$6w_1 + 3w_2 + b \\geq 1\n",
        "$$\n",
        "$$7w_1  - 2w_2 + b \\geq 1\n",
        "$$\n",
        "$$2w_1  + 5w_2 + b \\geq 1\n",
        "$$\n",
        "$$1.5w_1  - w_2 + b \\geq 1\n",
        "$$\n",
        "$$-w_1  + w_2 + b \\leq -1 $$\n",
        "$$-w_1  - w_2 + b \\leq -1 $$\n",
        "$$-6w_1  + 3w_2 + b \\leq -1 $$\n",
        "$$-3w_1  + 2w_2 + b \\leq -1 $$\n",
        "$$-4w_1  - 4w_2 + b \\leq -1 $$\n",
        "$$-5w_1  + 2w_2 + b \\leq -1 $$"
      ],
      "metadata": {
        "id": "CbeWG_AAMT4q"
      }
    },
    {
      "cell_type": "markdown",
      "source": [
        "(b) dual objective function: maximize $-\\frac{1}{2} ∑^6_{i=1} ∑^6_{j=1} a_ia_jy_jy_i \\mathbf{x_i^T} \\mathbf{x_j} + \\sum^6_{i=1} a_i$\n",
        "\n",
        "such that $\\sum^6_{i=1} a_iy_i = 0$"
      ],
      "metadata": {
        "id": "LAXGMFi0Njtb"
      }
    },
    {
      "cell_type": "code",
      "source": [
        "\n"
      ],
      "metadata": {
        "id": "iU4uyH4L-8xU"
      },
      "execution_count": null,
      "outputs": []
    }
  ]
}